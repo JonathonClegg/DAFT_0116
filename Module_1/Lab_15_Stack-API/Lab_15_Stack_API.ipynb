{
 "cells": [
  {
   "cell_type": "code",
   "execution_count": null,
   "metadata": {},
   "outputs": [],
   "source": [
    "from stackapi import StackAPI\n",
    "from datetime import datetime\n",
    "SITE = StackAPI('stackoverflow')\n"
   ]
  },
  {
   "cell_type": "code",
   "execution_count": 63,
   "metadata": {},
   "outputs": [
    {
     "ename": "StackAPIError",
     "evalue": "('https://api.stackexchange.com/2.2/questions/?pagesize=10&page=1&filter=default&fromdate=1672531200&todate=1674691200&site=stackoverflow', 502, 'throttle_violation', 'too many requests from this IP, more requests available in 69524 seconds')",
     "output_type": "error",
     "traceback": [
      "\u001b[0;31m---------------------------------------------------------------------------\u001b[0m",
      "\u001b[0;31mStackAPIError\u001b[0m                             Traceback (most recent call last)",
      "\u001b[0;32m/var/folders/1k/45vk_vqn0z174f0vwyd90vqr0000gn/T/ipykernel_57022/2397427693.py\u001b[0m in \u001b[0;36m<module>\u001b[0;34m\u001b[0m\n\u001b[1;32m      1\u001b[0m \u001b[0;31m#Question 1: Find the questions and answers of last month.\u001b[0m\u001b[0;34m\u001b[0m\u001b[0;34m\u001b[0m\u001b[0m\n\u001b[0;32m----> 2\u001b[0;31m \u001b[0mquestion\u001b[0m \u001b[0;34m=\u001b[0m \u001b[0mSITE\u001b[0m\u001b[0;34m.\u001b[0m\u001b[0mfetch\u001b[0m\u001b[0;34m(\u001b[0m\u001b[0;34m'questions'\u001b[0m\u001b[0;34m,\u001b[0m \u001b[0mfromdate\u001b[0m\u001b[0;34m=\u001b[0m\u001b[0mdatetime\u001b[0m\u001b[0;34m(\u001b[0m\u001b[0;36m2023\u001b[0m\u001b[0;34m,\u001b[0m\u001b[0;36m1\u001b[0m\u001b[0;34m,\u001b[0m\u001b[0;36m1\u001b[0m\u001b[0;34m)\u001b[0m\u001b[0;34m,\u001b[0m \u001b[0mtodate\u001b[0m\u001b[0;34m=\u001b[0m\u001b[0mdatetime\u001b[0m\u001b[0;34m(\u001b[0m\u001b[0;36m2023\u001b[0m\u001b[0;34m,\u001b[0m\u001b[0;36m1\u001b[0m\u001b[0;34m,\u001b[0m\u001b[0;36m26\u001b[0m\u001b[0;34m)\u001b[0m\u001b[0;34m)\u001b[0m\u001b[0;34m\u001b[0m\u001b[0;34m\u001b[0m\u001b[0m\n\u001b[0m\u001b[1;32m      3\u001b[0m \u001b[0mquestion\u001b[0m\u001b[0;34m\u001b[0m\u001b[0;34m\u001b[0m\u001b[0m\n\u001b[1;32m      4\u001b[0m \u001b[0mquestion_titles\u001b[0m \u001b[0;34m=\u001b[0m \u001b[0;34m[\u001b[0m\u001b[0mi\u001b[0m\u001b[0;34m[\u001b[0m\u001b[0;34m'title'\u001b[0m\u001b[0;34m]\u001b[0m \u001b[0;32mfor\u001b[0m \u001b[0mi\u001b[0m \u001b[0;32min\u001b[0m \u001b[0mquestion\u001b[0m\u001b[0;34m[\u001b[0m\u001b[0;34m'items'\u001b[0m\u001b[0;34m]\u001b[0m\u001b[0;34m]\u001b[0m\u001b[0;34m\u001b[0m\u001b[0;34m\u001b[0m\u001b[0m\n\u001b[1;32m      5\u001b[0m \u001b[0mquestion_titles\u001b[0m\u001b[0;34m\u001b[0m\u001b[0;34m\u001b[0m\u001b[0m\n",
      "\u001b[0;32m~/opt/anaconda3/lib/python3.9/site-packages/stackapi/stackapi.py\u001b[0m in \u001b[0;36mfetch\u001b[0;34m(self, endpoint, page, key, filter, **kwargs)\u001b[0m\n\u001b[1;32m    210\u001b[0m                 \u001b[0mcode\u001b[0m \u001b[0;34m=\u001b[0m \u001b[0mresponse\u001b[0m\u001b[0;34m[\u001b[0m\u001b[0;34m\"error_name\"\u001b[0m\u001b[0;34m]\u001b[0m\u001b[0;34m\u001b[0m\u001b[0;34m\u001b[0m\u001b[0m\n\u001b[1;32m    211\u001b[0m                 \u001b[0mmessage\u001b[0m \u001b[0;34m=\u001b[0m \u001b[0mresponse\u001b[0m\u001b[0;34m[\u001b[0m\u001b[0;34m\"error_message\"\u001b[0m\u001b[0;34m]\u001b[0m\u001b[0;34m\u001b[0m\u001b[0;34m\u001b[0m\u001b[0m\n\u001b[0;32m--> 212\u001b[0;31m                 \u001b[0;32mraise\u001b[0m \u001b[0mStackAPIError\u001b[0m\u001b[0;34m(\u001b[0m\u001b[0mself\u001b[0m\u001b[0;34m.\u001b[0m\u001b[0m_previous_call\u001b[0m\u001b[0;34m,\u001b[0m \u001b[0merror\u001b[0m\u001b[0;34m,\u001b[0m \u001b[0mcode\u001b[0m\u001b[0;34m,\u001b[0m \u001b[0mmessage\u001b[0m\u001b[0;34m)\u001b[0m\u001b[0;34m\u001b[0m\u001b[0;34m\u001b[0m\u001b[0m\n\u001b[0m\u001b[1;32m    213\u001b[0m             \u001b[0;32mexcept\u001b[0m \u001b[0mKeyError\u001b[0m\u001b[0;34m:\u001b[0m\u001b[0;34m\u001b[0m\u001b[0;34m\u001b[0m\u001b[0m\n\u001b[1;32m    214\u001b[0m                 \u001b[0;32mpass\u001b[0m  \u001b[0;31m# This means there is no error\u001b[0m\u001b[0;34m\u001b[0m\u001b[0;34m\u001b[0m\u001b[0m\n",
      "\u001b[0;31mStackAPIError\u001b[0m: ('https://api.stackexchange.com/2.2/questions/?pagesize=10&page=1&filter=default&fromdate=1672531200&todate=1674691200&site=stackoverflow', 502, 'throttle_violation', 'too many requests from this IP, more requests available in 69524 seconds')"
     ]
    }
   ],
   "source": [
    "#Question 1: Find the questions and answers of last month.\n",
    "question = SITE.fetch('questions', fromdate=datetime(2023,1,1), todate=datetime(2023,1,26))\n",
    "question\n",
    "question_titles = [i['title'] for i in question['items']]\n",
    "question_titles\n"
   ]
  },
  {
   "cell_type": "code",
   "execution_count": 62,
   "metadata": {},
   "outputs": [
    {
     "data": {
      "text/plain": [
       "{'backoff': 0,\n",
       " 'has_more': True,\n",
       " 'page': 1,\n",
       " 'quota_max': 300,\n",
       " 'quota_remaining': 246,\n",
       " 'total': 0,\n",
       " 'items': [{'owner': {'reputation': 181150,\n",
       "    'user_id': 546861,\n",
       "    'user_type': 'registered',\n",
       "    'profile_image': 'https://i.stack.imgur.com/SIhsx.png?s=256&g=1',\n",
       "    'display_name': 'romainl',\n",
       "    'link': 'https://stackoverflow.com/users/546861/romainl'},\n",
       "   'is_accepted': True,\n",
       "   'score': 3,\n",
       "   'last_activity_date': 1674730890,\n",
       "   'last_edit_date': 1674730890,\n",
       "   'creation_date': 1674629918,\n",
       "   'answer_id': 75230592,\n",
       "   'question_id': 75228014,\n",
       "   'content_license': 'CC BY-SA 4.0'},\n",
       "  {'owner': {'reputation': 2252,\n",
       "    'user_id': 18229970,\n",
       "    'user_type': 'registered',\n",
       "    'profile_image': 'https://i.stack.imgur.com/dFKz2.png?s=256&g=1',\n",
       "    'display_name': 'Imran',\n",
       "    'link': 'https://stackoverflow.com/users/18229970/imran'},\n",
       "   'is_accepted': False,\n",
       "   'score': 0,\n",
       "   'last_activity_date': 1674730832,\n",
       "   'last_edit_date': 1674730832,\n",
       "   'creation_date': 1672914032,\n",
       "   'answer_id': 75016915,\n",
       "   'question_id': 75008511,\n",
       "   'content_license': 'CC BY-SA 4.0'},\n",
       "  {'owner': {'reputation': 8364,\n",
       "    'user_id': 16120011,\n",
       "    'user_type': 'registered',\n",
       "    'profile_image': 'https://i.stack.imgur.com/LRti7.jpg?s=256&g=1',\n",
       "    'display_name': 'Timeless',\n",
       "    'link': 'https://stackoverflow.com/users/16120011/timeless'},\n",
       "   'is_accepted': False,\n",
       "   'score': 0,\n",
       "   'last_activity_date': 1674730697,\n",
       "   'last_edit_date': 1674730697,\n",
       "   'creation_date': 1674685364,\n",
       "   'answer_id': 75240474,\n",
       "   'question_id': 75239945,\n",
       "   'content_license': 'CC BY-SA 4.0'},\n",
       "  {'owner': {'reputation': 5557,\n",
       "    'user_id': 5516339,\n",
       "    'user_type': 'registered',\n",
       "    'profile_image': 'https://i.stack.imgur.com/R0E88.jpg?s=256&g=1',\n",
       "    'display_name': 'Palle Due',\n",
       "    'link': 'https://stackoverflow.com/users/5516339/palle-due'},\n",
       "   'is_accepted': True,\n",
       "   'score': 0,\n",
       "   'last_activity_date': 1674730646,\n",
       "   'last_edit_date': 1674730646,\n",
       "   'creation_date': 1674548078,\n",
       "   'answer_id': 75218894,\n",
       "   'question_id': 75217648,\n",
       "   'content_license': 'CC BY-SA 4.0'},\n",
       "  {'owner': {'reputation': 125,\n",
       "    'user_id': 2383054,\n",
       "    'user_type': 'registered',\n",
       "    'profile_image': 'https://www.gravatar.com/avatar/6bdef860b77669955d347894b9904869?s=256&d=identicon&r=PG',\n",
       "    'display_name': 'user2383054',\n",
       "    'link': 'https://stackoverflow.com/users/2383054/user2383054'},\n",
       "   'is_accepted': False,\n",
       "   'score': 1,\n",
       "   'last_activity_date': 1674730600,\n",
       "   'last_edit_date': 1674730600,\n",
       "   'creation_date': 1674667776,\n",
       "   'answer_id': 75237710,\n",
       "   'question_id': 33733924,\n",
       "   'content_license': 'CC BY-SA 4.0'},\n",
       "  {'owner': {'reputation': 14407,\n",
       "    'user_id': 8172439,\n",
       "    'user_type': 'registered',\n",
       "    'profile_image': 'https://i.stack.imgur.com/XmATK.jpg?s=256&g=1',\n",
       "    'display_name': 'Kai - Kazuya Ito',\n",
       "    'link': 'https://stackoverflow.com/users/8172439/kai-kazuya-ito'},\n",
       "   'is_accepted': False,\n",
       "   'score': 0,\n",
       "   'last_activity_date': 1674730430,\n",
       "   'last_edit_date': 1674730430,\n",
       "   'creation_date': 1674556263,\n",
       "   'answer_id': 75220212,\n",
       "   'question_id': 7981837,\n",
       "   'content_license': 'CC BY-SA 4.0'},\n",
       "  {'owner': {'reputation': 373,\n",
       "    'user_id': 10867936,\n",
       "    'user_type': 'registered',\n",
       "    'profile_image': 'https://i.stack.imgur.com/gjBjH.jpg?s=256&g=1',\n",
       "    'display_name': 'Stanley Ulili',\n",
       "    'link': 'https://stackoverflow.com/users/10867936/stanley-ulili'},\n",
       "   'is_accepted': False,\n",
       "   'score': -1,\n",
       "   'last_activity_date': 1674729917,\n",
       "   'last_edit_date': 1674729917,\n",
       "   'creation_date': 1674662916,\n",
       "   'answer_id': 75236715,\n",
       "   'question_id': 75236609,\n",
       "   'content_license': 'CC BY-SA 4.0'},\n",
       "  {'owner': {'reputation': 23,\n",
       "    'user_id': 4158029,\n",
       "    'user_type': 'registered',\n",
       "    'profile_image': 'https://graph.facebook.com/100003402267750/picture?type=large',\n",
       "    'display_name': 'user54097',\n",
       "    'link': 'https://stackoverflow.com/users/4158029/user54097'},\n",
       "   'is_accepted': False,\n",
       "   'score': 0,\n",
       "   'last_activity_date': 1674729733,\n",
       "   'last_edit_date': 1674729733,\n",
       "   'creation_date': 1674686280,\n",
       "   'answer_id': 75240609,\n",
       "   'question_id': 75240302,\n",
       "   'content_license': 'CC BY-SA 4.0'},\n",
       "  {'owner': {'reputation': 10293,\n",
       "    'user_id': 426185,\n",
       "    'user_type': 'registered',\n",
       "    'profile_image': 'https://www.gravatar.com/avatar/ed64e54f32c14d0f11e4e91009703322?s=256&d=identicon&r=PG',\n",
       "    'display_name': 'Andy',\n",
       "    'link': 'https://stackoverflow.com/users/426185/andy'},\n",
       "   'is_accepted': False,\n",
       "   'score': 1,\n",
       "   'last_activity_date': 1674729731,\n",
       "   'last_edit_date': 1674729731,\n",
       "   'creation_date': 1674659627,\n",
       "   'answer_id': 75235995,\n",
       "   'question_id': 75235637,\n",
       "   'content_license': 'CC BY-SA 4.0'},\n",
       "  {'owner': {'reputation': 125,\n",
       "    'user_id': 11073464,\n",
       "    'user_type': 'registered',\n",
       "    'profile_image': 'https://i.stack.imgur.com/IGJJW.png?s=256&g=1',\n",
       "    'display_name': 'depth1',\n",
       "    'link': 'https://stackoverflow.com/users/11073464/depth1'},\n",
       "   'is_accepted': True,\n",
       "   'score': 1,\n",
       "   'last_activity_date': 1674729728,\n",
       "   'last_edit_date': 1674729728,\n",
       "   'creation_date': 1672839583,\n",
       "   'answer_id': 75006324,\n",
       "   'question_id': 74961189,\n",
       "   'content_license': 'CC BY-SA 4.0'}]}"
      ]
     },
     "execution_count": 62,
     "metadata": {},
     "output_type": "execute_result"
    }
   ],
   "source": [
    "answers = SITE.fetch('answers', fromdate=datetime(2023,1,1), todate=datetime(2023,1,26))\n",
    "answers"
   ]
  },
  {
   "cell_type": "code",
   "execution_count": 60,
   "metadata": {},
   "outputs": [
    {
     "data": {
      "text/plain": [
       "['Why does Python logging throw an error when a handler name starts with `s`?']"
      ]
     },
     "execution_count": 60,
     "metadata": {},
     "output_type": "execute_result"
    }
   ],
   "source": [
    "#Question 2: Find the most voted question today with at least a score of 5 and tagged with 'python'.\n",
    "questions = SITE.fetch('questions', fromdate=datetime(2023,1,26), todate=datetime(2023,1,27), min=5, tagged='python', sort='votes')\n",
    "questions\n",
    "questions_titles = [item['title'] for item in questions['items']]\n",
    "questions_titles"
   ]
  },
  {
   "cell_type": "code",
   "execution_count": 59,
   "metadata": {},
   "outputs": [
    {
     "data": {
      "text/plain": [
       "{'backoff': 0,\n",
       " 'has_more': False,\n",
       " 'page': 1,\n",
       " 'quota_max': 300,\n",
       " 'quota_remaining': 249,\n",
       " 'total': 0,\n",
       " 'items': [{'owner': {'reputation': 30551,\n",
       "    'user_id': 758,\n",
       "    'user_type': 'registered',\n",
       "    'accept_rate': 77,\n",
       "    'profile_image': 'https://www.gravatar.com/avatar/0b4adc19284ed0751844d610555dc6b2?s=256&d=identicon&r=PG',\n",
       "    'display_name': 'Mark Renouf',\n",
       "    'link': 'https://stackoverflow.com/users/758/mark-renouf'},\n",
       "   'is_accepted': False,\n",
       "   'score': 0,\n",
       "   'last_activity_date': 1218291583,\n",
       "   'creation_date': 1218291583,\n",
       "   'answer_id': 6784,\n",
       "   'question_id': 6778,\n",
       "   'content_license': 'CC BY-SA 2.5'}]}"
      ]
     },
     "execution_count": 59,
     "metadata": {},
     "output_type": "execute_result"
    }
   ],
   "source": [
    "#Question 3: Find the answers with id 6784 and 6473.\n",
    "\n",
    "answers3 = SITE.fetch('answers', ids=['6784','6473'])\n",
    "answers3"
   ]
  }
 ],
 "metadata": {
  "kernelspec": {
   "display_name": "base",
   "language": "python",
   "name": "python3"
  },
  "language_info": {
   "codemirror_mode": {
    "name": "ipython",
    "version": 3
   },
   "file_extension": ".py",
   "mimetype": "text/x-python",
   "name": "python",
   "nbconvert_exporter": "python",
   "pygments_lexer": "ipython3",
   "version": "3.9.13"
  },
  "orig_nbformat": 4,
  "vscode": {
   "interpreter": {
    "hash": "a4fddbfe8d809e2d3e9162ef69ab0c6689347e519fade92586b6599260d81fd2"
   }
  }
 },
 "nbformat": 4,
 "nbformat_minor": 2
}
