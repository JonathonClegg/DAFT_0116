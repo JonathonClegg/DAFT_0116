{
 "cells": [
  {
   "cell_type": "code",
   "execution_count": null,
   "metadata": {},
   "outputs": [],
   "source": [
    "#[Remove All The Marked Elements of a List](https://www.codewars.com/kata/remove-all-the-marked-elements-of-a-list)\n",
    "\n",
    "class List:\n",
    "    def remove_(self, integer_list, values_list):\n",
    "        l = []\n",
    "        for x in integer_list:\n",
    "            if x not in values_list:\n",
    "                l.append(x)\n",
    "        return l"
   ]
  },
  {
   "cell_type": "code",
   "execution_count": null,
   "metadata": {},
   "outputs": [],
   "source": [
    "#[Method For Counting Total Occurence Of Specific Digits](https://www.codewars.com/kata/method-for-counting-total-occurence-of-specific-digits)\n",
    "\n",
    "class List(object):\n",
    "    def count_spec_digits(self, integers_list, digits_list):\n",
    "        # your code here\n",
    "        s = \"\".join(str(i) for i in integers_list)\n",
    "        return [(dig, s.count(str(dig))) for dig in digits_list]\n",
    "    "
   ]
  },
  {
   "cell_type": "code",
   "execution_count": null,
   "metadata": {},
   "outputs": [],
   "source": [
    "#[Ordered Count of Characters](https://www.codewars.com/kata/ordered-count-of-characters)\n",
    "\n",
    "def ordered_count(inp):\n",
    "    #make a list from the input\n",
    "    li = []\n",
    "    for i in inp:\n",
    "        if i not in li:\n",
    "            li.append(i)\n",
    "    return [(i, inp.count(i)) for i in li]\n",
    " \n",
    " #Question - Why did this not work? codewars said my seperator was empty. But that's what I wanted.\n",
    "    li = list(inp.split(\"\"))"
   ]
  }
 ],
 "metadata": {
  "kernelspec": {
   "display_name": "base",
   "language": "python",
   "name": "python3"
  },
  "language_info": {
   "codemirror_mode": {
    "name": "ipython",
    "version": 3
   },
   "file_extension": ".py",
   "mimetype": "text/x-python",
   "name": "python",
   "nbconvert_exporter": "python",
   "pygments_lexer": "ipython3",
   "version": "3.9.13"
  },
  "orig_nbformat": 4,
  "vscode": {
   "interpreter": {
    "hash": "a4fddbfe8d809e2d3e9162ef69ab0c6689347e519fade92586b6599260d81fd2"
   }
  }
 },
 "nbformat": 4,
 "nbformat_minor": 2
}
