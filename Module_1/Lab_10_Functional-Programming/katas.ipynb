{
 "cells": [
  {
   "cell_type": "code",
   "execution_count": 12,
   "metadata": {},
   "outputs": [
    {
     "data": {
      "text/plain": [
       "17"
      ]
     },
     "execution_count": 12,
     "metadata": {},
     "output_type": "execute_result"
    }
   ],
   "source": [
    "#[Counting Sheeps] (https://www.codewars.com/kata/54edbc7200b811e956000556)\n",
    "\n",
    "sheep = [true,  true,  true,  false,\n",
    "  true,  true,  true,  true ,\n",
    "  true,  false, true,  false,\n",
    "  true,  false, false, true ,\n",
    "  true,  true,  true,  true ,\n",
    "  false, false, true,  true]\n",
    "  \n",
    "def count_sheeps(sheep):    \n",
    "    sheep_count = [1 for s in sheep if s == True]\n",
    "    return sum(sheep_count)\n",
    "count_sheeps(sheep)\n",
    "\n",
    "\n",
    "    \n",
    "\n"
   ]
  },
  {
   "cell_type": "code",
   "execution_count": 14,
   "metadata": {},
   "outputs": [
    {
     "data": {
      "text/plain": [
       "[1, 3, 5, 7, 9]"
      ]
     },
     "execution_count": 14,
     "metadata": {},
     "output_type": "execute_result"
    }
   ],
   "source": [
    "#[Removing elements] (https://www.codewars.com/kata/5769b3802ae6f8e4890009d2)\n",
    "\n",
    "def remove_every_other(my_list):\n",
    "    #[::2] This takes every second element for the full length of the list\n",
    "    return my_list[::2]\n",
    "\n",
    "my_list = [1,2,3,4,5,6,7,8,9]\n",
    "remove_every_other(my_list)"
   ]
  },
  {
   "cell_type": "code",
   "execution_count": 15,
   "metadata": {},
   "outputs": [
    {
     "data": {
      "text/plain": [
       "[6, 5, 4, 3]"
      ]
     },
     "execution_count": 15,
     "metadata": {},
     "output_type": "execute_result"
    }
   ],
   "source": [
    "#[Convert number to reversed array of digits](https://www.codewars.com/kata/5583090cbe83f4fd8c000051)\n",
    "\n",
    "def digitize(n):\n",
    "    output = list(map(int, str(n)))\n",
    "    output = output[::-1]\n",
    "    return output\n",
    "\n",
    "digitize(3456)"
   ]
  },
  {
   "cell_type": "code",
   "execution_count": 16,
   "metadata": {},
   "outputs": [
    {
     "name": "stdout",
     "output_type": "stream",
     "text": [
      "811181\n",
      "0\n"
     ]
    }
   ],
   "source": [
    "#[Square every digit] (https://www.codewars.com/kata/546e2562b03326a88e000020)\n",
    "\n",
    "def square_digits(num):\n",
    "    num_list = list(map(int, str(num)))\n",
    "    num_list_square = [i**2 for i in num_list]\n",
    "    final_number = ''.join(str(e) for e in num_list_square)\n",
    "    return int(final_number)\n",
    "print(square_digits(9119))\n",
    "print(square_digits(0))"
   ]
  },
  {
   "cell_type": "code",
   "execution_count": null,
   "metadata": {},
   "outputs": [],
   "source": [
    "#Counting Total Occurence Of Specific Digits](https://www.codewars.com/kata/56311e4fdd811616810000ce)\n",
    "\n",
    "class List(object):\n",
    "    def count_spec_digits(self, integers_list, digits_list):\n",
    "        # your code here\n",
    "        s = \"\".join(str(i) for i in integers_list)\n",
    "        return [(dig, s.count(str(dig))) for dig in digits_list]"
   ]
  }
 ],
 "metadata": {
  "kernelspec": {
   "display_name": "base",
   "language": "python",
   "name": "python3"
  },
  "language_info": {
   "codemirror_mode": {
    "name": "ipython",
    "version": 3
   },
   "file_extension": ".py",
   "mimetype": "text/x-python",
   "name": "python",
   "nbconvert_exporter": "python",
   "pygments_lexer": "ipython3",
   "version": "3.9.13"
  },
  "orig_nbformat": 4,
  "vscode": {
   "interpreter": {
    "hash": "a4fddbfe8d809e2d3e9162ef69ab0c6689347e519fade92586b6599260d81fd2"
   }
  }
 },
 "nbformat": 4,
 "nbformat_minor": 2
}
