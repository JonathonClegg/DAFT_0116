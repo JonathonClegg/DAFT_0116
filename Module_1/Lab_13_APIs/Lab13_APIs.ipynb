{
 "cells": [
  {
   "cell_type": "code",
   "execution_count": 1,
   "metadata": {},
   "outputs": [
    {
     "name": "stdout",
     "output_type": "stream",
     "text": [
      "{'Connection': 'keep-alive', 'Content-Length': '2685', 'Server': 'nginx', 'Content-Type': 'text/html; charset=UTF-8', 'Last-Modified': 'Wed, 25 Jan 2023 19:57:29 GMT', 'ETag': 'W/\"63d189a9-1ba0\"', 'Expires': 'Wed, 25 Jan 2023 20:03:06 GMT', 'Cache-Control': 'max-age=300', 'Content-Encoding': 'gzip', 'Via': '1.1 varnish, 1.1 varnish', 'Accept-Ranges': 'bytes', 'Date': 'Thu, 26 Jan 2023 08:31:27 GMT', 'Age': '117', 'X-Served-By': 'cache-dfw-kdfw8210121-DFW, cache-cdg20742-CDG', 'X-Cache': 'HIT, HIT', 'X-Cache-Hits': '76, 1', 'X-Timer': 'S1674721888.950171,VS0,VE1', 'Vary': 'Accept-Encoding'}\n",
      "Wed, 25 Jan 2023 20:03:06 GMT\n",
      "<!DOCTYPE html>\n",
      "<html>\n",
      "<head>\n",
      "<link rel=\"stylesheet\" type=\"text/css\" href=\"/s/7d94e0.css\" title=\"Default\"/>\n",
      "<title>xkcd: Planet Killer Comet Margarita</title>\n",
      "<meta http-equiv=\"X-UA-Compatible\" content=\"IE=edge\"/>\n",
      "<link rel=\"shortcut icon\" href=\"/s/919f27.ico\" type=\"image/x-icon\"/>\n",
      "<link rel=\"icon\" href=\"/s/919f27.ico\" type=\"image/x-icon\"/>\n",
      "<link rel=\"alternate\" type=\"application/atom+xml\" title=\"Atom 1.0\" href=\"/atom.xml\"/>\n",
      "<link rel=\"alternate\" type=\"application/rss+xml\" title=\"RSS 2.0\" href=\"/rss.xml\"/>\n",
      "<!-- <script type=\"text/javascript\" src=\"/s/b66ed7.js\" async></script>\n",
      "<script type=\"text/javascript\" src=\"/s/1b9456.js\" async></script> -->\n",
      "\n",
      "<meta property=\"og:site_name\" content=\"xkcd\">\n",
      "\n",
      "<meta property=\"og:title\" content=\"Planet Killer Comet Margarita\">\n",
      "<meta property=\"og:url\" content=\"https://xkcd.com/2729/\">\n",
      "<meta property=\"og:image\" content=\"https://imgs.xkcd.com/comics/planet_killer_comet_margarita_2x.png\">\n",
      "<meta name=\"twitter:card\" content=\"summary_large_image\">\n",
      "\n",
      "</head>\n",
      "<body>\n",
      "<div id=\"topContainer\">\n",
      "<div id=\"topLeft\">\n",
      "<ul>\n",
      "<li><a href=\"/archive\">Archive</a></li>\n",
      "<li><a href=\"https://what-if.xkcd.com\">What If?</a></li>\n",
      "<li><a rel=\"author\" href=\"/about\">About</a></li>\n",
      "<li><a href=\"/atom.xml\">Feed</a>&bull;<a href=\"/newsletter/\">Email</a></li>\n",
      "<li><a href=\"https://twitter.com/xkcd/\">TW</a>&bull;<a href=\"https://www.facebook.com/TheXKCD/\">FB</a>&bull;<a href=\"https://www.instagram.com/xkcd/\">IG</a></li>\n",
      "<li><a href=\"/books/\">-Books-</a></li>\n",
      "<li><a href=\"/what-if-2/\">What If? 2</a></li>\n",
      "<li><a href=\"/what-if/\">WI?</a>&bull;<a href=\"/thing-explainer/\">TE</a>&bull;<a href=\"/how-to/\">HT</a></li>\n",
      "</ul>\n",
      "</div>\n",
      "<div id=\"topRight\">\n",
      "<div id=\"masthead\">\n",
      "<span><a href=\"/\"><img src=\"/s/0b7742.png\" alt=\"xkcd.com logo\" height=\"83\" width=\"185\"/></a></span>\n",
      "<span id=\"slogan\">A webcomic of romance,<br/> sarcasm, math, and language.</span>\n",
      "</div>\n",
      "<div id=\"news\">\n",
      "Today's comic was drawn for Daniel Becker, based on<br /><a href=\"https://what-if.xkcd.com/162/\">his winning question</a> submitted to the <a href=\"https://xkcd.com/what-if-2/\">What If? 2</a> contest.\n",
      "</div>\n",
      "</div>\n",
      "<div id=\"bgLeft\" class=\"bg box\"></div>\n",
      "<div id=\"bgRight\" class=\"bg box\"></div>\n",
      "</div>\n",
      "<div id=\"middleContainer\" class=\"box\">\n",
      "\n",
      "<div id=\"ctitle\">Planet Killer Comet Margarita</div>\n",
      "<ul class=\"comicNav\">\n",
      "<li><a href=\"/1/\">|&lt;</a></li>\n",
      "<li><a rel=\"prev\" href=\"/2728/\" accesskey=\"p\">&lt; Prev</a></li>\n",
      "<li><a href=\"//c.xkcd.com/random/comic/\">Random</a></li>\n",
      "<li><a rel=\"next\" href=\"#\" accesskey=\"n\">Next &gt;</a></li>\n",
      "<li><a href=\"/\">&gt;|</a></li>\n",
      "</ul>\n",
      "<div id=\"comic\">\n",
      "<img src=\"//imgs.xkcd.com/comics/planet_killer_comet_margarita.png\" title=\"I&#39;ll take mine on the rocks, no ice.\" alt=\"Planet Killer Comet Margarita\" srcset=\"//imgs.xkcd.com/comics/planet_killer_comet_margarita_2x.png 2x\" style=\"image-orientation:none\" />\n",
      "</div>\n",
      "<ul class=\"comicNav\">\n",
      "<li><a href=\"/1/\">|&lt;</a></li>\n",
      "<li><a rel=\"prev\" href=\"/2728/\" accesskey=\"p\">&lt; Prev</a></li>\n",
      "<li><a href=\"//c.xkcd.com/random/comic/\">Random</a></li>\n",
      "<li><a rel=\"next\" href=\"#\" accesskey=\"n\">Next &gt;</a></li>\n",
      "<li><a href=\"/\">&gt;|</a></li>\n",
      "</ul>\n",
      "<br />\n",
      "Permanent link to this comic: <a href=\"https://xkcd.com/2729\">https://xkcd.com/2729/</a><br />\n",
      "Image URL (for hotlinking/embedding): <a href= \"https://imgs.xkcd.com/comics/planet_killer_comet_margarita.png\">https://imgs.xkcd.com/comics/planet_killer_comet_margarita.png</a>\n",
      "\n",
      "<div id=\"transcript\" style=\"display: none\"></div>\n",
      "</div>\n",
      "<div id=\"bottom\" class=\"box\">\n",
      "<img src=\"//imgs.xkcd.com/s/a899e84.jpg\" width=\"520\" height=\"100\" alt=\"Selected Comics\" usemap=\"#comicmap\"/>\n",
      "<map id=\"comicmap\" name=\"comicmap\">\n",
      "<area shape=\"rect\" coords=\"0,0,100,100\" href=\"/150/\" alt=\"Grownups\"/>\n",
      "<area shape=\"rect\" coords=\"104,0,204,100\" href=\"/730/\" alt=\"Circuit Diagram\"/>\n",
      "<area shape=\"rect\" coords=\"208,0,308,100\" href=\"/162/\" alt=\"Angular Momentum\"/>\n",
      "<area shape=\"rect\" coords=\"312,0,412,100\" href=\"/688/\" alt=\"Self-Description\"/>\n",
      "<area shape=\"rect\" coords=\"416,0,520,100\" href=\"/556/\" alt=\"Alternative Energy Revolution\"/>\n",
      "</map>\n",
      "<br />\n",
      "<a href=\"//xkcd.com/1732/\"><img border=0 src=\"//imgs.xkcd.com/s/temperature.png\" width=\"520\" height=\"100\" alt=\"Earth temperature timeline\"></a>\n",
      "<br />\n",
      "<div>\n",
      "<!--\n",
      "Search comic titles and transcripts:\n",
      "<script type=\"text/javascript\" src=\"//www.google.com/jsapi\"></script>\n",
      "<script type=\"text/javascript\">google.load('search', '1');google.setOnLoadCallback(function() {google.search.CustomSearchControl.attachAutoCompletion('012652707207066138651:zudjtuwe28q',document.getElementById('q'),'cse-search-box');});</script>\n",
      "<form action=\"//www.google.com/cse\" id=\"cse-search-box\">\n",
      "<div>\n",
      "<input type=\"hidden\" name=\"cx\" value=\"012652707207066138651:zudjtuwe28q\"/>\n",
      "<input type=\"hidden\" name=\"ie\" value=\"UTF-8\"/>\n",
      "<input type=\"text\" name=\"q\" id=\"q\" size=\"31\"/>\n",
      "<input type=\"submit\" name=\"sa\" value=\"Search\"/>\n",
      "</div>\n",
      "</form>\n",
      "<script type=\"text/javascript\" src=\"//www.google.com/cse/brand?form=cse-search-box&amp;lang=en\"></script>\n",
      "-->\n",
      "<a href=\"/rss.xml\">RSS Feed</a> - <a href=\"/atom.xml\">Atom Feed</a> - <a href=\"/newsletter/\">Email</a>\n",
      "</div>\n",
      "<br />\n",
      "<div id=\"comicLinks\">\n",
      "Comics I enjoy:<br/>\n",
      "        <a href=\"http://threewordphrase.com/\">Three Word Phrase</a>,\n",
      "        <a href=\"https://www.smbc-comics.com/\">SMBC</a>,\n",
      "        <a href=\"https://www.qwantz.com\">Dinosaur Comics</a>,\n",
      "        <a href=\"https://oglaf.com/\">Oglaf</a> (nsfw),\n",
      "        <a href=\"https://www.asofterworld.com\">A Softer World</a>,\n",
      "        <a href=\"https://buttersafe.com/\">Buttersafe</a>,\n",
      "        <a href=\"https://pbfcomics.com/\">Perry Bible Fellowship</a>,\n",
      "        <a href=\"https://questionablecontent.net/\">Questionable Content</a>,\n",
      "        <a href=\"http://www.buttercupfestival.com/\">Buttercup Festival</a>,\n",
      "        <a href=\"https://www.homestuck.com/\">Homestuck</a>,\n",
      "\t<a href=\"https://www.jspowerhour.com/\">Junior Scientist Power Hour</a>\n",
      "</div>\n",
      "<br />\n",
      "<div id=\"comicLinks\">\n",
      "Other things:<br/>\n",
      "        <a href=\"https://medium.com/civic-tech-thoughts-from-joshdata/so-you-want-to-reform-democracy-7f3b1ef10597\">Tips on technology and government</a>,<br /> \n",
      "        <a href=\"https://www.nytimes.com/interactive/2017/climate/what-is-climate-change.html\">Climate FAQ</a>,\n",
      "\t<a href=\"https://twitter.com/KHayhoe\">Katharine Hayhoe</a>\n",
      "</div>\n",
      "<br />\n",
      "<center>\n",
      "<div id=\"footnote\" style=\"width:70%\">xkcd.com is best viewed with Netscape Navigator 4.0 or below on a Pentium 3&plusmn;1 emulated in Javascript on an Apple IIGS<br />at a screen resolution of 1024x1. Please enable your ad blockers, disable high-heat drying, and remove your device<br />from Airplane Mode and set it to Boat Mode. For security reasons, please leave caps lock on while browsing.</div>\n",
      "</center>\n",
      "<div id=\"licenseText\">\n",
      "<p>\n",
      "This work is licensed under a\n",
      "<a href=\"https://creativecommons.org/licenses/by-nc/2.5/\">Creative Commons Attribution-NonCommercial 2.5 License</a>.\n",
      "</p><p>\n",
      "This means you're free to copy and share these comics (but not to sell them). <a rel=\"license\" href=\"/license.html\">More details</a>.</p>\n",
      "</div>\n",
      "</div>\n",
      "</body>\n",
      "<!-- Layout by Ian Clasbey, davean, and chromakode -->\n",
      "</html>\n",
      "\n",
      "\n"
     ]
    }
   ],
   "source": [
    "#Challenge 1: Get a Picture\n",
    "\n",
    "import json\n",
    "import requests\n",
    "import pandas as pd\n",
    "import random\n",
    "import shutil # save img locally\n",
    "\n",
    "response = requests.get('https://xkcd.com/')\n",
    "print(response.headers) #Will return important information\n",
    "print(response.headers.get('Expires')) #Returns value for Key 'Expires' in Dict response.headers\n",
    "print(response.text) #will return html code\n",
    "\n",
    "file_name = \"APIimage2\"\n",
    "response = requests.get('https://imgs.xkcd.com/comics/circuit_diagram.png')\n",
    "with open(file_name,'wb') as f:\n",
    "    shutil.copyfileobj(response.raw, f)\n"
   ]
  },
  {
   "cell_type": "code",
   "execution_count": 2,
   "metadata": {},
   "outputs": [
    {
     "data": {
      "text/plain": [
       "'https://httpbin.org/get'"
      ]
     },
     "execution_count": 2,
     "metadata": {},
     "output_type": "execute_result"
    }
   ],
   "source": [
    "#Challenge 2: Get a password\n",
    "\n",
    "URL = \"https://httpbin.org/get\"\n",
    "response = requests.get('https://httpbin.org/get')\n",
    "response.url\n"
   ]
  },
  {
   "cell_type": "code",
   "execution_count": 3,
   "metadata": {},
   "outputs": [
    {
     "name": "stdout",
     "output_type": "stream",
     "text": [
      "b'{\\n  \"args\": {\\n    \"things\": \"2\", \\n    \"total\": \"25\"\\n  }, \\n  \"data\": \"\", \\n  \"files\": {}, \\n  \"form\": {}, \\n  \"headers\": {\\n    \"Accept\": \"*/*\", \\n    \"Accept-Encoding\": \"gzip, deflate, br\", \\n    \"Content-Length\": \"0\", \\n    \"Host\": \"httpbin.org\", \\n    \"User-Agent\": \"python-requests/2.28.1\", \\n    \"X-Amzn-Trace-Id\": \"Root=1-63d23a61-1d6fba0c14f4f0a9518e674c\"\\n  }, \\n  \"json\": null, \\n  \"origin\": \"185.146.221.98\", \\n  \"url\": \"https://httpbin.org/post?things=2&total=25\"\\n}\\n'\n"
     ]
    }
   ],
   "source": [
    "import requests\n",
    "response = requests.post('https://httpbin.org/post', params={'things':2,'total':25})\n",
    "print(response.content)"
   ]
  },
  {
   "cell_type": "code",
   "execution_count": 12,
   "metadata": {},
   "outputs": [
    {
     "data": {
      "text/plain": [
       "{'args': {},\n",
       " 'data': '',\n",
       " 'files': {},\n",
       " 'form': {'password': '123abc', 'username': 'jonuser'},\n",
       " 'headers': {'Accept': '*/*',\n",
       "  'Accept-Encoding': 'gzip, deflate, br',\n",
       "  'Content-Length': '32',\n",
       "  'Content-Type': 'application/x-www-form-urlencoded',\n",
       "  'Host': 'httpbin.org',\n",
       "  'User-Agent': 'python-requests/2.28.1',\n",
       "  'X-Amzn-Trace-Id': 'Root=1-63d23b66-530db7dc4ac276fe20a016d5'},\n",
       " 'json': None,\n",
       " 'origin': '185.146.221.98',\n",
       " 'url': 'https://httpbin.org/post'}"
      ]
     },
     "execution_count": 12,
     "metadata": {},
     "output_type": "execute_result"
    }
   ],
   "source": [
    "response = requests.post('https://httpbin.org/post', data={'password':'123abc','username':'jonuser'})\n",
    "results = response.json()\n",
    "results"
   ]
  },
  {
   "cell_type": "code",
   "execution_count": 13,
   "metadata": {},
   "outputs": [
    {
     "data": {
      "text/plain": [
       "{'password': '123abc', 'username': 'jonuser'}"
      ]
     },
     "execution_count": 13,
     "metadata": {},
     "output_type": "execute_result"
    }
   ],
   "source": [
    "response_dict = response.json()\n",
    "response_dict\n",
    "response_dict['form']"
   ]
  },
  {
   "cell_type": "code",
   "execution_count": 6,
   "metadata": {},
   "outputs": [
    {
     "data": {
      "text/plain": [
       "{'.0016.scavengerhunt': 'https://api.github.com/repositories/162375181/contents/47222/.0016.scavengerhunt?ref=9308ccc8a4c34c5e3a991ee815222a9691c32476',\n",
       " '.0009.scavengerhunt': 'https://api.github.com/repositories/162375181/contents/97881/.0009.scavengerhunt?ref=9308ccc8a4c34c5e3a991ee815222a9691c32476',\n",
       " '.0021.scavengerhunt': 'https://api.github.com/repositories/162375181/contents/30351/.0021.scavengerhunt?ref=9308ccc8a4c34c5e3a991ee815222a9691c32476',\n",
       " '.0023.scavengerhunt': 'https://api.github.com/repositories/162375181/contents/55417/.0023.scavengerhunt?ref=9308ccc8a4c34c5e3a991ee815222a9691c32476',\n",
       " '.0019.scavengerhunt': 'https://api.github.com/repositories/162375181/contents/70751/.0019.scavengerhunt?ref=9308ccc8a4c34c5e3a991ee815222a9691c32476',\n",
       " '.0002.scavengerhunt': 'https://api.github.com/repositories/162375181/contents/88596/.0002.scavengerhunt?ref=9308ccc8a4c34c5e3a991ee815222a9691c32476',\n",
       " '.0011.scavengerhunt': 'https://api.github.com/repositories/162375181/contents/50896/.0011.scavengerhunt?ref=9308ccc8a4c34c5e3a991ee815222a9691c32476',\n",
       " '.0006.scavengerhunt': 'https://api.github.com/repositories/162375181/contents/15024/.0006.scavengerhunt?ref=9308ccc8a4c34c5e3a991ee815222a9691c32476',\n",
       " '.0014.scavengerhunt': 'https://api.github.com/repositories/162375181/contents/49418/.0014.scavengerhunt?ref=9308ccc8a4c34c5e3a991ee815222a9691c32476',\n",
       " '.0012.scavengerhunt': 'https://api.github.com/repositories/162375181/contents/15534/.0012.scavengerhunt?ref=9308ccc8a4c34c5e3a991ee815222a9691c32476',\n",
       " '.0001.scavengerhunt': 'https://api.github.com/repositories/162375181/contents/98750/.0001.scavengerhunt?ref=9308ccc8a4c34c5e3a991ee815222a9691c32476',\n",
       " '.0018.scavengerhunt': 'https://api.github.com/repositories/162375181/contents/45525/.0018.scavengerhunt?ref=9308ccc8a4c34c5e3a991ee815222a9691c32476',\n",
       " '.0013.scavengerhunt': 'https://api.github.com/repositories/162375181/contents/89338/.0013.scavengerhunt?ref=9308ccc8a4c34c5e3a991ee815222a9691c32476',\n",
       " '.0005.scavengerhunt': 'https://api.github.com/repositories/162375181/contents/44639/.0005.scavengerhunt?ref=9308ccc8a4c34c5e3a991ee815222a9691c32476',\n",
       " '.0020.scavengerhunt': 'https://api.github.com/repositories/162375181/contents/55685/.0020.scavengerhunt?ref=9308ccc8a4c34c5e3a991ee815222a9691c32476',\n",
       " '.0024.scavengerhunt': 'https://api.github.com/repositories/162375181/contents/47222/.0024.scavengerhunt?ref=9308ccc8a4c34c5e3a991ee815222a9691c32476',\n",
       " '.0015.scavengerhunt': 'https://api.github.com/repositories/162375181/contents/91701/.0015.scavengerhunt?ref=9308ccc8a4c34c5e3a991ee815222a9691c32476',\n",
       " '.0007.scavengerhunt': 'https://api.github.com/repositories/162375181/contents/17020/.0007.scavengerhunt?ref=9308ccc8a4c34c5e3a991ee815222a9691c32476',\n",
       " '.0003.scavengerhunt': 'https://api.github.com/repositories/162375181/contents/60224/.0003.scavengerhunt?ref=9308ccc8a4c34c5e3a991ee815222a9691c32476',\n",
       " '.0022.scavengerhunt': 'https://api.github.com/repositories/162375181/contents/40303/.0022.scavengerhunt?ref=9308ccc8a4c34c5e3a991ee815222a9691c32476',\n",
       " '.0010.scavengerhunt': 'https://api.github.com/repositories/162375181/contents/47830/.0010.scavengerhunt?ref=9308ccc8a4c34c5e3a991ee815222a9691c32476',\n",
       " '.0004.scavengerhunt': 'https://api.github.com/repositories/162375181/contents/68848/.0004.scavengerhunt?ref=9308ccc8a4c34c5e3a991ee815222a9691c32476',\n",
       " '.0017.scavengerhunt': 'https://api.github.com/repositories/162375181/contents/70985/.0017.scavengerhunt?ref=9308ccc8a4c34c5e3a991ee815222a9691c32476',\n",
       " '.0008.scavengerhunt': 'https://api.github.com/repositories/162375181/contents/15534/.0008.scavengerhunt?ref=9308ccc8a4c34c5e3a991ee815222a9691c32476'}"
      ]
     },
     "execution_count": 6,
     "metadata": {},
     "output_type": "execute_result"
    }
   ],
   "source": [
    "#Challenge 3: Hidden Cold Joke\n",
    "import requests\n",
    "response = requests.get('https://api.github.com/search/code?q=.scavengerhunt+in:path+repo:ironhack-datalabs/scavenger')\n",
    "search = response.json()\n",
    "search\n",
    "search[\"items\"]\n",
    "repo_files_names = [item[\"name\"] for item in search[\"items\"]]\n",
    "repo_files_names.sort()\n",
    "repo_files_names\n",
    "repo_files_urls = {item[\"name\"]: item[\"url\"] for item in search[\"items\"]}\n",
    "repo_files_urls"
   ]
  },
  {
   "cell_type": "code",
   "execution_count": 7,
   "metadata": {},
   "outputs": [
    {
     "data": {
      "text/plain": [
       "'In data science, 80 percent of time spent is preparing data, 20 percent of time is spent complaining about the need to prepare data. '"
      ]
     },
     "execution_count": 7,
     "metadata": {},
     "output_type": "execute_result"
    }
   ],
   "source": [
    "repo_files = [requests.get(repo_files_urls[repo_filename]) for repo_filename in repo_files_names]\n",
    "repo_files\n",
    "\n",
    "repo_files_content = [file.json()['content'] for file in repo_files]\n",
    "repo_files_content\n",
    "\n",
    "import base64 #special library for decoding messages (changing the format essentially) Here we are turning the files to ascii format\n",
    "message = [base64.b64decode(b64message).decode('ascii') for b64message in repo_files_content]\n",
    "message_1 = ''.join(message)\n",
    "message_2 = message_1.replace(\"\\n\", \" \")\n",
    "message_2\n"
   ]
  }
 ],
 "metadata": {
  "kernelspec": {
   "display_name": "base",
   "language": "python",
   "name": "python3"
  },
  "language_info": {
   "codemirror_mode": {
    "name": "ipython",
    "version": 3
   },
   "file_extension": ".py",
   "mimetype": "text/x-python",
   "name": "python",
   "nbconvert_exporter": "python",
   "pygments_lexer": "ipython3",
   "version": "3.9.13"
  },
  "orig_nbformat": 4,
  "vscode": {
   "interpreter": {
    "hash": "a4fddbfe8d809e2d3e9162ef69ab0c6689347e519fade92586b6599260d81fd2"
   }
  }
 },
 "nbformat": 4,
 "nbformat_minor": 2
}
